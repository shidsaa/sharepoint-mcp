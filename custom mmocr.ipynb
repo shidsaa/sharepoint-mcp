{
  "nbformat": 4,
  "nbformat_minor": 0,
  "metadata": {
    "colab": {
      "name": "custom mmocr.ipynb",
      "provenance": [],
      "include_colab_link": true
    },
    "kernelspec": {
      "name": "python3",
      "display_name": "Python 3",
      "language": "python"
    },
    "language_info": {
      "name": "python",
      "version": "3.8.5"
    },
    "accelerator": "GPU"
  },
  "cells": [
    {
      "cell_type": "markdown",
      "metadata": {
        "id": "view-in-github",
        "colab_type": "text"
      },
      "source": [
        "<a href=\"https://colab.research.google.com/github/shidsaa/sharepoint-mcp/blob/main/custom%20mmocr.ipynb\" target=\"_parent\"><img src=\"https://colab.research.google.com/assets/colab-badge.svg\" alt=\"Open In Colab\"/></a>"
      ]
    },
    {
      "cell_type": "markdown",
      "source": [
        "# MMOCR Tutorial\n",
        "\n",
        "Welcome to MMOCR! This is the **unofficial** colab tutorial for using MMOCR. In this tutorial, you will learn how to\n",
        "\n",
        "- Transform annotation in coco-like json format to MMOCR compatible format.\n",
        "- Set custom configuration file\n",
        "- Integrate mmocr config template extracted from `base` with user custom setting\n",
        "- Train a text recognizer with a toy dataset.\n",
        "- Resume training from exisiting `training model`.\n",
        "- Load a pretrained model"
      ],
      "metadata": {
        "id": "U-Xyj4cQrEQ1"
      }
    },
    {
      "cell_type": "markdown",
      "source": [
        "Authors: Rodney Petrus Balandong balandongiv@gmail.com\n",
        "\n",
        "Part of noteebook content were extracted from the MMOCR official documentation"
      ],
      "metadata": {
        "id": "m_XABoECyCJA"
      }
    },
    {
      "cell_type": "markdown",
      "source": [
        "# Install MMOCR"
      ],
      "metadata": {
        "id": "Sfvz1sywQ9_4"
      }
    },
    {
      "cell_type": "markdown",
      "source": [
        "When installing dependencies for mmocr, please ensure that all the dependency versions are compatible with each other. For instance, if CUDA 10.1 is installed, then the Pytorch version must be compatible with cu10.1. Please see [getting_started.md](docs/getting_started.md) for more details."
      ],
      "metadata": {
        "id": "q3fZP1LspEUp"
      }
    },
    {
      "cell_type": "code",
      "execution_count": 1,
      "source": [
        "%cd .."
      ],
      "outputs": [
        {
          "output_type": "stream",
          "name": "stdout",
          "text": [
            "/\n"
          ]
        }
      ],
      "metadata": {
        "id": "rB3qciTXpEUq",
        "colab": {
          "base_uri": "https://localhost:8080/"
        },
        "outputId": "f6008efe-c28e-4f89-eef6-4fd549a2cabb"
      }
    },
    {
      "cell_type": "markdown",
      "source": [
        "### Check PyTorch version"
      ],
      "metadata": {
        "id": "mSkZOdrMpEUr"
      }
    },
    {
      "cell_type": "code",
      "source": [
        "!pip show torch"
      ],
      "metadata": {
        "id": "eNvnx5XGAn0i",
        "colab": {
          "base_uri": "https://localhost:8080/"
        },
        "outputId": "535b5a50-94b6-4661-b56d-d113d356e182"
      },
      "execution_count": 2,
      "outputs": [
        {
          "output_type": "stream",
          "name": "stdout",
          "text": [
            "Name: torch\n",
            "Version: 2.8.0+cu126\n",
            "Summary: Tensors and Dynamic neural networks in Python with strong GPU acceleration\n",
            "Home-page: https://pytorch.org/\n",
            "Author: PyTorch Team\n",
            "Author-email: packages@pytorch.org\n",
            "License: BSD-3-Clause\n",
            "Location: /usr/local/lib/python3.12/dist-packages\n",
            "Requires: filelock, fsspec, jinja2, networkx, nvidia-cublas-cu12, nvidia-cuda-cupti-cu12, nvidia-cuda-nvrtc-cu12, nvidia-cuda-runtime-cu12, nvidia-cudnn-cu12, nvidia-cufft-cu12, nvidia-cufile-cu12, nvidia-curand-cu12, nvidia-cusolver-cu12, nvidia-cusparse-cu12, nvidia-cusparselt-cu12, nvidia-nccl-cu12, nvidia-nvjitlink-cu12, nvidia-nvtx-cu12, setuptools, sympy, triton, typing-extensions\n",
            "Required-by: accelerate, fastai, peft, sentence-transformers, timm, torchaudio, torchdata, torchvision\n"
          ]
        }
      ]
    },
    {
      "cell_type": "markdown",
      "source": [
        "### Install Dependencies"
      ],
      "metadata": {
        "id": "Tw7u_baQpEUs"
      }
    },
    {
      "cell_type": "code",
      "execution_count": null,
      "source": [
        "# Install mmcv-full thus we could use CUDA operators\n",
        "!pip install mmcv-full -f https://download.openmmlab.com/mmcv/dist/cu113/torch1.11.0/index.html\n",
        "\n",
        "# Install mmdetection\n",
        "!pip install mmdet\n",
        "\n",
        "# # Install mmocr\n",
        "!git clone https://github.com/open-mmlab/mmocr.git\n",
        "%cd mmocr\n",
        "!pip install -r requirements.txt\n",
        "!pip install -v -e .\n",
        "\n",
        "!pip install gdown"
      ],
      "outputs": [
        {
          "output_type": "stream",
          "name": "stdout",
          "text": [
            "Looking in links: https://download.openmmlab.com/mmcv/dist/cu113/torch1.11.0/index.html\n",
            "Collecting mmcv-full\n",
            "  Downloading mmcv-full-1.7.2.tar.gz (607 kB)\n",
            "\u001b[2K     \u001b[90m━━━━━━━━━━━━━━━━━━━━━━━━━━━━━━━━━━━━━━\u001b[0m \u001b[32m607.9/607.9 kB\u001b[0m \u001b[31m15.0 MB/s\u001b[0m eta \u001b[36m0:00:00\u001b[0m\n",
            "\u001b[?25h  Preparing metadata (setup.py) ... \u001b[?25l\u001b[?25hdone\n",
            "Collecting addict (from mmcv-full)\n",
            "  Downloading addict-2.4.0-py3-none-any.whl.metadata (1.0 kB)\n",
            "Requirement already satisfied: numpy in /usr/local/lib/python3.12/dist-packages (from mmcv-full) (2.0.2)\n",
            "Requirement already satisfied: packaging in /usr/local/lib/python3.12/dist-packages (from mmcv-full) (25.0)\n",
            "Requirement already satisfied: Pillow in /usr/local/lib/python3.12/dist-packages (from mmcv-full) (11.3.0)\n",
            "Requirement already satisfied: pyyaml in /usr/local/lib/python3.12/dist-packages (from mmcv-full) (6.0.3)\n",
            "Collecting yapf (from mmcv-full)\n",
            "  Downloading yapf-0.43.0-py3-none-any.whl.metadata (46 kB)\n",
            "\u001b[2K     \u001b[90m━━━━━━━━━━━━━━━━━━━━━━━━━━━━━━━━━━━━━━━━\u001b[0m \u001b[32m46.8/46.8 kB\u001b[0m \u001b[31m5.6 MB/s\u001b[0m eta \u001b[36m0:00:00\u001b[0m\n",
            "\u001b[?25hRequirement already satisfied: platformdirs>=3.5.1 in /usr/local/lib/python3.12/dist-packages (from yapf->mmcv-full) (4.5.0)\n",
            "Downloading addict-2.4.0-py3-none-any.whl (3.8 kB)\n",
            "Downloading yapf-0.43.0-py3-none-any.whl (256 kB)\n",
            "\u001b[2K   \u001b[90m━━━━━━━━━━━━━━━━━━━━━━━━━━━━━━━━━━━━━━━━\u001b[0m \u001b[32m256.2/256.2 kB\u001b[0m \u001b[31m27.3 MB/s\u001b[0m eta \u001b[36m0:00:00\u001b[0m\n",
            "\u001b[?25hBuilding wheels for collected packages: mmcv-full\n"
          ]
        }
      ],
      "metadata": {
        "id": "DwDY3puNNmhe",
        "tags": [
          "outputPrepend"
        ],
        "outputId": "8301ebab-876c-43e8-a4bb-7174f0ab8674",
        "colab": {
          "base_uri": "https://localhost:8080/"
        }
      }
    },
    {
      "cell_type": "markdown",
      "source": [
        "### Check Installed Dependencies Versions"
      ],
      "metadata": {
        "id": "DY64JCc0pEUu"
      }
    },
    {
      "cell_type": "code",
      "execution_count": null,
      "source": [
        "# Check Pytorch installation\n",
        "import torch, torchvision\n",
        "print(torch.__version__, torch.cuda.is_available())\n",
        "\n",
        "# Check MMDetection installation\n",
        "import mmdet\n",
        "print(mmdet.__version__)\n",
        "\n",
        "# Check mmcv installation\n",
        "import mmcv\n",
        "from mmcv.ops import get_compiling_cuda_version, get_compiler_version\n",
        "print(mmcv.__version__)\n",
        "print(get_compiling_cuda_version())\n",
        "print(get_compiler_version())\n",
        "\n",
        "# Check mmocr installation\n",
        "import mmocr\n",
        "print(mmocr.__version__)\n",
        "\n",
        "%cd /mmocr/\n",
        "!ls"
      ],
      "outputs": [
        {
          "output_type": "stream",
          "name": "stdout",
          "text": [
            "1.11.0+cu113 True\n",
            "2.25.0\n",
            "1.5.3\n",
            "11.3\n",
            "GCC 7.3\n",
            "0.6.0\n",
            "/mmocr\n",
            "CITATION.cff  docs\t   mmocr.egg-info   requirements      setup.py\n",
            "configs       LICENSE\t   model-index.yml  requirements.txt  tests\n",
            "demo\t      MANIFEST.in  README.md\t    resources\t      tools\n",
            "docker\t      mmocr\t   README_zh-CN.md  setup.cfg\n"
          ]
        }
      ],
      "metadata": {
        "id": "JABQfPwQN52g",
        "outputId": "75381b08-9dec-4ac7-83b4-f8e132f2b933",
        "colab": {
          "base_uri": "https://localhost:8080/"
        }
      }
    },
    {
      "cell_type": "markdown",
      "source": [
        "#Perform Training on a Toy Dataset with MMOCR Recognizer\n",
        "We now demonstrate how to perform training with an MMOCR recognizer. Since training a full academic dataset is time consuming (usually takes about several hours), we will train on the toy dataset for the SAR text recognition model and visualize the predictions.\n",
        "\n",
        "Training a dataset usually consists of the following steps:\n",
        "1. Convert the dataset into a format supported by MMOCR (e.g. COCO for text detection). The annotation file can be in either .txt or .lmdb format, depending on the size of the dataset. This step is usually applicable to customized datasets, since the datasets and annotation files we provide are already in supported formats.\n",
        "2. Modify the config for training.\n",
        "3. Train the model.\n",
        "\n"
      ],
      "metadata": {
        "id": "nYon41X7RTOT"
      }
    },
    {
      "cell_type": "markdown",
      "source": [
        "## About the Toy Dataset\n",
        "\n",
        "In this tutorial, we will be working with the dataset under the folder `toy_dataset`.\n",
        "\n",
        "Each of the image have the accompnying `annotation` file generated using the `labelme`\n",
        "\n",
        "The images were stored under the following path\n",
        "\n",
        "`/mmocr/tests/data/toy_dataset/imgs/test`\n",
        "\n",
        "The annotation were stored under  the following path\n",
        "\n",
        "`/mmocr/tests/data/toy_dataset/labelme`\n",
        "\n",
        "\n"
      ],
      "metadata": {
        "id": "FElJSp1vpEUz"
      }
    },
    {
      "cell_type": "code",
      "source": [
        "# Print list of images and annotation available under the`toy_dataset` folder\n",
        "!cat /mmocr/tests/data/toy_dataset/img_list.txt"
      ],
      "metadata": {
        "id": "FzyOZkrwCxEE",
        "outputId": "a988c976-fd13-483d-e4c1-7915d96d436e",
        "colab": {
          "base_uri": "https://localhost:8080/"
        }
      },
      "execution_count": null,
      "outputs": [
        {
          "output_type": "stream",
          "name": "stdout",
          "text": [
            "img_10.jpg\n",
            "img_1.jpg\n",
            "img_2.jpg\n",
            "img_3.jpg\n",
            "img_4.jpg\n",
            "img_5.jpg\n",
            "img_6.jpg\n",
            "img_7.jpg\n",
            "img_8.jpg\n",
            "img_9.jpg\n"
          ]
        }
      ]
    },
    {
      "cell_type": "markdown",
      "source": [
        "We first get a sense of what the toy dataset looks like by visualizing one of the images and labels."
      ],
      "metadata": {
        "id": "qLEON60YC1Lj"
      }
    },
    {
      "cell_type": "code",
      "execution_count": null,
      "source": [
        "import mmcv\n",
        "import matplotlib.pyplot as plt\n",
        "\n",
        "#To ensure we are in the root directory\n",
        "%cd ..\n",
        "\n",
        "img = mmcv.imread('/mmocr/tests/data/toy_dataset/imgs/test/img_1.jpg')\n",
        "\n",
        "plt.imshow(mmcv.bgr2rgb(img))\n",
        "plt.show()"
      ],
      "outputs": [
        {
          "output_type": "stream",
          "name": "stdout",
          "text": [
            "/\n"
          ]
        },
        {
          "output_type": "display_data",
          "data": {
            "text/plain": [
              "<Figure size 432x288 with 1 Axes>"
            ],
            "image/png": "[encoded data removed]"
          },
          "metadata": {
            "needs_background": "light"
          }
        }
      ],
      "metadata": {
        "id": "hZfd2pnqN5-Q",
        "outputId": "212aa9c8-8bd2-481f-de68-02dc726cae32",
        "colab": {
          "base_uri": "https://localhost:8080/",
          "height": 258
        }
      }
    },
    {
      "cell_type": "markdown",
      "source": [
        "Let visualise the annotation"
      ],
      "metadata": {
        "id": "O1V3V_4L_DHQ"
      }
    },
    {
      "cell_type": "code",
      "source": [
        "!cat /mmocr/tests/data/toy_dataset/labelme/img_1.json"
      ],
      "metadata": {
        "id": "ZP6Y4nLbFsYv",
        "outputId": "90b59417-3a30-44f5-8d24-e8e0b23bab89",
        "colab": {
          "base_uri": "https://localhost:8080/"
        }
      },
      "execution_count": null,
      "outputs": [
        {
          "output_type": "stream",
          "name": "stdout",
          "text": [
            "{\r\n",
            "  \"version\": \"5.0.1\",\r\n",
            "  \"flags\": {},\r\n",
            "  \"shapes\": [\r\n",
            "    {\r\n",
            "      \"label\": \"Genaxis Theatre\",\r\n",
            "      \"points\": [\r\n",
            "        [\r\n",
            "          377,\r\n",
            "          117\r\n",
            "        ],\r\n",
            "        [\r\n",
            "          463,\r\n",
            "          117\r\n",
            "        ],\r\n",
            "        [\r\n",
            "          465,\r\n",
            "          130\r\n",
            "        ],\r\n",
            "        [\r\n",
            "          378,\r\n",
            "          130\r\n",
            "        ]\r\n",
            "      ],\r\n",
            "      \"group_id\": null,\r\n",
            "      \"shape_type\": \"polygon\",\r\n",
            "      \"flags\": {}\r\n",
            "    },\r\n",
            "    {\r\n",
            "      \"label\": \"[06]\",\r\n",
            "      \"points\": [\r\n",
            "        [\r\n",
            "          493,\r\n",
            "          115\r\n",
            "        ],\r\n",
            "        [\r\n",
            "          519,\r\n",
            "          115\r\n",
            "        ],\r\n",
            "        [\r\n",
            "          519,\r\n",
            "          131\r\n",
            "        ],\r\n",
            "        [\r\n",
            "          493,\r\n",
            "          131\r\n",
            "        ]\r\n",
            "      ],\r\n",
            "      \"group_id\": null,\r\n",
            "      \"shape_type\": \"polygon\",\r\n",
            "      \"flags\": {}\r\n",
            "    },\r\n",
            "    {\r\n",
            "      \"label\": \"###\",\r\n",
            "      \"points\": [\r\n",
            "        [\r\n",
            "          374,\r\n",
            "          155\r\n",
            "        ],\r\n",
            "        [\r\n",
            "          409,\r\n",
            "          155\r\n",
            "        ],\r\n",
            "        [\r\n",
            "          409,\r\n",
            "          170\r\n",
            "        ],\r\n",
            "        [\r\n",
            "          374,\r\n",
            "          170\r\n",
            "        ]\r\n",
            "      ],\r\n",
            "      \"group_id\": null,\r\n",
            "      \"shape_type\": \"polygon\",\r\n",
            "      \"flags\": {}\r\n",
            "    },\r\n",
            "    {\r\n",
            "      \"label\": \"62-03\",\r\n",
            "      \"points\": [\r\n",
            "        [\r\n",
            "          492,\r\n",
            "          151\r\n",
            "        ],\r\n",
            "        [\r\n",
            "          551,\r\n",
            "          151\r\n",
            "        ],\r\n",
            "        [\r\n",
            "          551,\r\n",
            "          170\r\n",
            "        ],\r\n",
            "        [\r\n",
            "          492,\r\n",
            "          170\r\n",
            "        ]\r\n",
            "      ],\r\n",
            "      \"group_id\": null,\r\n",
            "      \"shape_type\": \"polygon\",\r\n",
            "      \"flags\": {}\r\n",
            "    },\r\n",
            "    {\r\n",
            "      \"label\": \"Carpark\",\r\n",
            "      \"points\": [\r\n",
            "        [\r\n",
            "          376,\r\n",
            "          198\r\n",
            "        ],\r\n",
            "        [\r\n",
            "          422,\r\n",
            "          198\r\n",
            "        ],\r\n",
            "        [\r\n",
            "          422,\r\n",
            "          212\r\n",
            "        ],\r\n",
            "        [\r\n",
            "          376,\r\n",
            "          212\r\n",
            "        ]\r\n",
            "      ],\r\n",
            "      \"group_id\": null,\r\n",
            "      \"shape_type\": \"polygon\",\r\n",
            "      \"flags\": {}\r\n",
            "    },\r\n",
            "    {\r\n",
            "      \"label\": \"###\",\r\n",
            "      \"points\": [\r\n",
            "        [\r\n",
            "          494,\r\n",
            "          190\r\n",
            "        ],\r\n",
            "        [\r\n",
            "          539,\r\n",
            "          189\r\n",
            "        ],\r\n",
            "        [\r\n",
            "          539,\r\n",
            "          205\r\n",
            "        ],\r\n",
            "        [\r\n",
            "          494,\r\n",
            "          206\r\n",
            "        ]\r\n",
            "      ],\r\n",
            "      \"group_id\": null,\r\n",
            "      \"shape_type\": \"polygon\",\r\n",
            "      \"flags\": {}\r\n",
            "    },\r\n",
            "    {\r\n",
            "      \"label\": \"###\",\r\n",
            "      \"points\": [\r\n",
            "        [\r\n",
            "          374,\r\n",
            "          1\r\n",
            "        ],\r\n",
            "        [\r\n",
            "          494,\r\n",
            "          0\r\n",
            "        ],\r\n",
            "        [\r\n",
            "          492,\r\n",
            "          85\r\n",
            "        ],\r\n",
            "        [\r\n",
            "          372,\r\n",
            "          86\r\n",
            "        ]\r\n",
            "      ],\r\n",
            "      \"group_id\": null,\r\n",
            "      \"shape_type\": \"polygon\",\r\n",
            "      \"flags\": {}\r\n",
            "    }\r\n",
            "  ],\r\n",
            "  \"imagePath\": \"tests/data/toy_dataset/imgs/test/img_1.jpg\",\r\n",
            "  \"imageData\": \"\",\r\n",
            "  \"imageHeight\": 720,\r\n",
            "  \"imageWidth\": 1280\r\n",
            "}"
          ]
        }
      ]
    },
    {
      "cell_type": "markdown",
      "source": [
        "## Prepare Annotation to MMOCR format\n",
        "\n",
        "Since the annotations are in COCO format, we need to firstly convert annotation in labelme format to MMOCR's annotation format using the `labelme_converter.py`.\n",
        "\n",
        "For this particular example, we will convert the labelme format annotation in `/mmocr/tests/data/toy_dataset/labelme` to MMOCR detection labels instances_training `.txt` and export the cropped image patches for recognition task to `/mmocr/tests/data/toy_dataset/crops`. It is worth to note that the following setting would not output the `test_label.txt` as there is no test set. This information is important  when assigning  `test_anno_file1` to `train_label.txt` in subsequent step.\n",
        "\n",
        "In Google colab, it is essential to add a `!` before the Python command.\n"
      ],
      "metadata": {
        "id": "HDjdg6L8ziYS"
      }
    },
    {
      "cell_type": "markdown",
      "source": [
        "For this particular dataset, preferable to use the `.jsonl` as the annotation output"
      ],
      "metadata": {
        "id": "K1gpyMVAgOg1"
      }
    },
    {
      "cell_type": "code",
      "source": [
        "!python /mmocr/tools/data/common/labelme_converter.py /mmocr/tests/data/toy_dataset/labelme /mmocr/tests/data/toy_dataset/imgs/test /mmocr/tests/data/toy_dataset --tasks recog --format jsonl"
      ],
      "metadata": {
        "colab": {
          "base_uri": "https://localhost:8080/"
        },
        "id": "Fur1PcDpgOCX",
        "outputId": "b1e01fd7-713f-4e92-a175-cf61dc414f57"
      },
      "execution_count": null,
      "outputs": [
        {
          "output_type": "stream",
          "name": "stdout",
          "text": [
            "[                                                  ] 0/10, elapsed: 0s, ETA:\r[  ] 1/10, 78.3 task/s, elapsed: 0s, ETA:     0s\r[  ] 2/10, 86.5 task/s, elapsed: 0s, ETA:     0s\r[  ] 3/10, 90.5 task/s, elapsed: 0s, ETA:     0s\r[  ] 4/10, 93.0 task/s, elapsed: 0s, ETA:     0s\r[> ] 5/10, 94.1 task/s, elapsed: 0s, ETA:     0s\r[> ] 6/10, 93.1 task/s, elapsed: 0s, ETA:     0s\r[> ] 7/10, 91.1 task/s, elapsed: 0s, ETA:     0s\r[> ] 8/10, 91.7 task/s, elapsed: 0s, ETA:     0s\r[> ] 9/10, 91.9 task/s, elapsed: 0s, ETA:     0s\r[>>] 10/10, 91.5 task/s, elapsed: 0s, ETA:     0s\n",
            "finish\n"
          ]
        }
      ]
    },
    {
      "cell_type": "markdown",
      "source": [
        "Let have a look what files has been generated from the previous calling"
      ],
      "metadata": {
        "id": "NVsw-hMkETbp"
      }
    },
    {
      "cell_type": "code",
      "source": [
        "# List of crop images that being crop in accordance to the bounding box\n",
        "import os\n",
        "root = '/mmocr/tests/data/toy_dataset' # Location where the annotation and crop images are being stored\n",
        "path_crop_img=os.path.join(root,'crops')\n",
        "print([os.path.join(path, name) for path, subdirs, files in os.walk(path_crop_img) for name in files])"
      ],
      "metadata": {
        "id": "X8kvWR3UE4KG",
        "colab": {
          "base_uri": "https://localhost:8080/"
        },
        "outputId": "acfb6e1b-7f71-43e8-9bb7-4e41ec645002"
      },
      "execution_count": null,
      "outputs": [
        {
          "output_type": "stream",
          "name": "stdout",
          "text": [
            "['/mmocr/tests/data/toy_dataset/crops/img_3/crop_1.jpg', '/mmocr/tests/data/toy_dataset/crops/img_3/crop_0.jpg', '/mmocr/tests/data/toy_dataset/crops/img_7/crop_1.jpg', '/mmocr/tests/data/toy_dataset/crops/img_7/crop_0.jpg', '/mmocr/tests/data/toy_dataset/crops/img_10/crop_1.jpg', '/mmocr/tests/data/toy_dataset/crops/img_10/crop_0.jpg', '/mmocr/tests/data/toy_dataset/crops/img_10/crop_2.jpg', '/mmocr/tests/data/toy_dataset/crops/img_6/crop_1.jpg', '/mmocr/tests/data/toy_dataset/crops/img_6/crop_0.jpg', '/mmocr/tests/data/toy_dataset/crops/img_2/crop_1.jpg', '/mmocr/tests/data/toy_dataset/crops/img_2/crop_0.jpg', '/mmocr/tests/data/toy_dataset/crops/img_9/crop_1.jpg', '/mmocr/tests/data/toy_dataset/crops/img_9/crop_0.jpg', '/mmocr/tests/data/toy_dataset/crops/img_1/crop_1.jpg', '/mmocr/tests/data/toy_dataset/crops/img_1/crop_0.jpg', '/mmocr/tests/data/toy_dataset/crops/img_1/crop_3.jpg', '/mmocr/tests/data/toy_dataset/crops/img_1/crop_2.jpg', '/mmocr/tests/data/toy_dataset/crops/img_8/crop_1.jpg', '/mmocr/tests/data/toy_dataset/crops/img_8/crop_0.jpg', '/mmocr/tests/data/toy_dataset/crops/img_8/crop_3.jpg', '/mmocr/tests/data/toy_dataset/crops/img_8/crop_2.jpg']\n"
          ]
        }
      ]
    },
    {
      "cell_type": "markdown",
      "source": [
        "Lets visualise the MMOCR detection labels instances_training `.jsonl`"
      ],
      "metadata": {
        "id": "VmsBm8txF06t"
      }
    },
    {
      "cell_type": "code",
      "source": [
        "!cat /mmocr/tests/data/toy_dataset/train_label.jsonl"
      ],
      "metadata": {
        "id": "RFhKFgJZGJW-",
        "colab": {
          "base_uri": "https://localhost:8080/"
        },
        "outputId": "7322b6aa-5b58-44e5-9ca7-eb83890d010e"
      },
      "execution_count": null,
      "outputs": [
        {
          "output_type": "stream",
          "name": "stdout",
          "text": [
            "{\"filename\": \"/mmocr/tests/data/toy_dataset/crops/img_7/crop_0.jpg\", \"text\": \"citi\"}\n",
            "{\"filename\": \"/mmocr/tests/data/toy_dataset/crops/img_7/crop_1.jpg\", \"text\": \"smrt\"}\n",
            "{\"filename\": \"/mmocr/tests/data/toy_dataset/crops/img_3/crop_0.jpg\", \"text\": \"fusionopolis\"}\n",
            "{\"filename\": \"/mmocr/tests/data/toy_dataset/crops/img_3/crop_1.jpg\", \"text\": \"fusionopolis\"}\n",
            "{\"filename\": \"/mmocr/tests/data/toy_dataset/crops/img_6/crop_0.jpg\", \"text\": \"Reserve\"}\n",
            "{\"filename\": \"/mmocr/tests/data/toy_dataset/crops/img_6/crop_1.jpg\", \"text\": \"CAUTION\"}\n",
            "{\"filename\": \"/mmocr/tests/data/toy_dataset/crops/img_9/crop_0.jpg\", \"text\": \"EXIT\"}\n",
            "{\"filename\": \"/mmocr/tests/data/toy_dataset/crops/img_9/crop_1.jpg\", \"text\": \"STAGE\"}\n",
            "{\"filename\": \"/mmocr/tests/data/toy_dataset/crops/img_8/crop_0.jpg\", \"text\": \"WHY\"}\n",
            "{\"filename\": \"/mmocr/tests/data/toy_dataset/crops/img_8/crop_1.jpg\", \"text\": \"PAY\"}\n",
            "{\"filename\": \"/mmocr/tests/data/toy_dataset/crops/img_8/crop_2.jpg\", \"text\": \"FOR\"}\n",
            "{\"filename\": \"/mmocr/tests/data/toy_dataset/crops/img_8/crop_3.jpg\", \"text\": \"NOTHING?\"}\n",
            "{\"filename\": \"/mmocr/tests/data/toy_dataset/crops/img_2/crop_0.jpg\", \"text\": \"EXIT\"}\n",
            "{\"filename\": \"/mmocr/tests/data/toy_dataset/crops/img_2/crop_1.jpg\", \"text\": \"I2R\"}\n",
            "{\"filename\": \"/mmocr/tests/data/toy_dataset/crops/img_1/crop_0.jpg\", \"text\": \"Genaxis Theatre\"}\n",
            "{\"filename\": \"/mmocr/tests/data/toy_dataset/crops/img_1/crop_1.jpg\", \"text\": \"[06]\"}\n",
            "{\"filename\": \"/mmocr/tests/data/toy_dataset/crops/img_1/crop_2.jpg\", \"text\": \"62-03\"}\n",
            "{\"filename\": \"/mmocr/tests/data/toy_dataset/crops/img_1/crop_3.jpg\", \"text\": \"Carpark\"}\n",
            "{\"filename\": \"/mmocr/tests/data/toy_dataset/crops/img_10/crop_0.jpg\", \"text\": \"HarbourFront\"}\n",
            "{\"filename\": \"/mmocr/tests/data/toy_dataset/crops/img_10/crop_1.jpg\", \"text\": \"CC22\"}\n",
            "{\"filename\": \"/mmocr/tests/data/toy_dataset/crops/img_10/crop_2.jpg\", \"text\": \"bua\"}\n"
          ]
        }
      ]
    },
    {
      "cell_type": "code",
      "source": [
        "!wget https://github.com/balandongiv/mmocr_tutorial/blob/main/my_cfg.py.txt"
      ],
      "metadata": {
        "colab": {
          "base_uri": "https://localhost:8080/"
        },
        "id": "0IgGFz00c52e",
        "outputId": "eb235a29-0fba-458f-ad56-324c05529d2f"
      },
      "execution_count": null,
      "outputs": [
        {
          "output_type": "stream",
          "name": "stdout",
          "text": [
            "--2022-06-27 04:06:29--  https://github.com/balandongiv/mmocr_tutorial/blob/main/my_cfg.py.txt\n",
            "Resolving github.com (github.com)... 140.82.112.4\n",
            "Connecting to github.com (github.com)|140.82.112.4|:443... connected.\n",
            "HTTP request sent, awaiting response... 404 Not Found\n",
            "2022-06-27 04:06:30 ERROR 404: Not Found.\n",
            "\n"
          ]
        }
      ]
    },
    {
      "cell_type": "markdown",
      "source": [
        "## Configuration file\n",
        "\n",
        "The MMOCR's config system incorporate modular and inheritance design, which is convenient to conduct various experiments.\n",
        "\n",
        "**REMARK**\n",
        "The modular code in each cell is for explaination purpose, toward the end, the code will be paste in a `.py` file.\n",
        "\n",
        "\n",
        "The config file structure consist on the parameter\n",
        "1. [model](https://mmocr.readthedocs.io/en/latest/tutorials/config.html#model),\n",
        "2. [data & pipeline](https://mmocr.readthedocs.io/en/latest/tutorials/config.html#data-pipeline),\n",
        "3. [training schedule](https://mmocr.readthedocs.io/en/latest/tutorials/config.html#training-schedule), and\n",
        "4. [runtime setting](https://mmocr.readthedocs.io/en/latest/tutorials/config.html#runtime-setting).\n",
        "\n",
        "Please refer to [config file structure](https://mmocr.readthedocs.io/en/latest/tutorials/config.html#config-file-structure) for detailed documentation"
      ],
      "metadata": {
        "id": "i-GrV0xSkAc3"
      }
    },
    {
      "cell_type": "markdown",
      "source": [
        "Firstly, We import the four predefine configurations of the `model`, `data $ pipeline`, `training schedule` and `runtime setting` as follow."
      ],
      "metadata": {
        "id": "bazeIZ60zvjA"
      }
    },
    {
      "cell_type": "markdown",
      "source": [
        "\n",
        "\n",
        "```\n",
        "_base_ = [\n",
        "    '/mmocr/configs/_base_/recog_models/sar.py',\n",
        "    '/mmocr/configs/_base_/recog_pipelines/sar_pipeline.py',\n",
        "    '/mmocr/configs/_base_/schedules/schedule_adam_step_5e.py',\n",
        "    '/mmocr/configs/_base_/default_runtime.py',\n",
        "]\n",
        "```\n",
        "\n",
        "Notice that all files were configured under the `.py` extension. It is important to note that the `.py` cannot contain `modular` such as `import os`.\n",
        "\n",
        "\n",
        "The pipeline can be assigned as\n",
        "\n",
        "\n",
        "\n",
        "```\n",
        "train_pipeline = {{_base_.train_pipeline}}\n",
        "test_pipeline = {{_base_.test_pipeline}}\n",
        "```\n",
        "\n"
      ],
      "metadata": {
        "id": "FCjW6K2932zk"
      }
    },
    {
      "cell_type": "markdown",
      "source": [
        "Define the training and validation datasets.\n",
        "\n",
        "In this tutorial, we are using the `crop` images ( `mmocr/tests/data/toy_dataset/crops`) and its annotation (`mmocr/tests/data/toy_dataset/train_label.jsonl`) as a training dataset.\n",
        "\n",
        "The training dataset can be configured as;\n",
        "\n",
        "```\n",
        "dataset_type = 'OCRDataset'\n",
        "root = '/mmocr/tests/data/toy_dataset' # Location where the annotation and crop images are being stored\n",
        "\n",
        "img_prefix ='/mmocr/tests/data/toy_dataset/crops'\n",
        "train_anno_file1 = '/mmocr/tests/data/toy_dataset/train_label.jsonl'\n",
        "\n",
        "\n",
        "loader_dt_train = dict(type='AnnFileLoader',\n",
        "                            repeat=100,                   \n",
        "                            file_format='txt',  # only txt and lmdb\n",
        "                            file_storage_backend='disk',\n",
        "                            parser=dict(type='LineJsonParser',\n",
        "                                        keys=['filename', 'text']))\n",
        "\n",
        "train_datasets1 = dict(type='OCRDataset',\n",
        "                       img_prefix=img_prefix,\n",
        "                       ann_file=train_anno_file1,\n",
        "                       loader=loader_dt_train,\n",
        "                       pipeline=None,           \n",
        "                       test_mode=False)\n",
        "\n",
        "\n",
        "train_list = [train_datasets1]\n"
      ],
      "metadata": {
        "id": "azZObd1Z0raJ"
      }
    },
    {
      "cell_type": "markdown",
      "source": [
        "We also need to configure the `testing` dataset. For simplicity, we assume the training and test dataset are the same\n",
        "\n",
        "```\n",
        "loader_dt_val = dict(type='AnnFileLoader',\n",
        "                            repeat=1,                   \n",
        "                            file_format='txt',  # only txt and lmdb\n",
        "                            file_storage_backend='disk',\n",
        "                            parser=dict(type='LineJsonParser',\n",
        "                                        keys=['filename', 'text']))\n",
        "\n",
        "train_datasets1 = dict(type='OCRDataset',\n",
        "                       img_prefix=img_prefix,\n",
        "                       ann_file=train_anno_file1,\n",
        "                       loader=loader_dt_val,\n",
        "                       pipeline=None,           \n",
        "                       test_mode=False)\n",
        "\n",
        "\n",
        "test_list =  [train_datasets1]\n",
        "```"
      ],
      "metadata": {
        "id": "SPEXbwvLpvKs"
      }
    },
    {
      "cell_type": "markdown",
      "source": [
        "More detail about [repeat](https://github.com/open-mmlab/mmocr/issues/858#issuecomment-1166156290)"
      ],
      "metadata": {
        "id": "fl1Xc73x0lMB"
      }
    },
    {
      "cell_type": "markdown",
      "source": [
        "The pipeline for `train` and `test` can be configured as below\n",
        "\n",
        "\n",
        "\n",
        "```\n",
        "train_pipeline = {{_base_.train_pipeline}}\n",
        "test_pipeline = {{_base_.test_pipeline}}\n",
        "```\n",
        "\n"
      ],
      "metadata": {
        "id": "5EwK10-xqez7"
      }
    },
    {
      "cell_type": "markdown",
      "source": [
        "We also need to specify to direectory to save all files and logs.\n",
        "\n",
        "`work_dir = '/mmocr/demo/tutorial_exps'`"
      ],
      "metadata": {
        "id": "P02c3JSLpYHJ"
      }
    },
    {
      "cell_type": "markdown",
      "source": [
        "Finally, assign all the informations into the `data` dictionary. It is worth to note, this setting is almost similar to the build-in [script](https://github.com/open-mmlab/mmocr/blob/72a79f9350277566caae2fdf3ab9cd614f313d28/configs/textrecog/sar/sar_r31_parallel_decoder_toy_dataset.py#L14).\n",
        "\n",
        "\n",
        "\n",
        "```\n",
        "data = dict(\n",
        "    workers_per_gpu=2,\n",
        "    samples_per_gpu=8,\n",
        "    train=dict(\n",
        "        type='UniformConcatDataset',\n",
        "        datasets=train_list,\n",
        "        pipeline=train_pipeline),\n",
        "    val=dict(\n",
        "        type='UniformConcatDataset',\n",
        "        datasets=test_list,\n",
        "        pipeline=test_pipeline),\n",
        "    test=dict(\n",
        "        type='UniformConcatDataset',\n",
        "        datasets=test_list,\n",
        "        pipeline=test_pipeline)\n",
        "    )\n",
        "\n",
        "evaluation = dict(interval=1, metric='acc')\n",
        "```"
      ],
      "metadata": {
        "id": "00GJwwJQ5h3H"
      }
    },
    {
      "cell_type": "markdown",
      "source": [
        "As mentioned, this `cfg` need to be stored in a `.py` file.\n",
        "For simplicity, lets download the `.py` file and stored at `/content/my_cfg.py`."
      ],
      "metadata": {
        "id": "8WKFkf1Z2e6l"
      }
    },
    {
      "cell_type": "code",
      "source": [
        "import gdown\n",
        "gdown.download(url='https://drive.google.com/file/d/1mv3JSGfPhzlSzCRPN9Ddsd_9mQILLhVV/view?usp=sharing', output='/content/', quiet=True, fuzzy=True)"
      ],
      "metadata": {
        "colab": {
          "base_uri": "https://localhost:8080/",
          "height": 35
        },
        "id": "r-ELyw0Bg6Qb",
        "outputId": "653e3f6c-64cf-4e25-9b37-f8de72335c45"
      },
      "execution_count": null,
      "outputs": [
        {
          "output_type": "execute_result",
          "data": {
            "text/plain": [
              "'/content/my_cfg.py'"
            ],
            "application/vnd.google.colaboratory.intrinsic+json": {
              "type": "string"
            }
          },
          "metadata": {},
          "execution_count": 12
        }
      ]
    },
    {
      "cell_type": "markdown",
      "source": [
        "Lets create the configration file"
      ],
      "metadata": {
        "id": "Tp2_REBignfH"
      }
    },
    {
      "cell_type": "code",
      "source": [
        "from mmcv import Config\n",
        "\n",
        "cfg = Config.fromfile('/content/my_cfg.py')"
      ],
      "metadata": {
        "id": "CmQgFAV_9783"
      },
      "execution_count": null,
      "outputs": []
    },
    {
      "cell_type": "markdown",
      "source": [
        "It is also possible to modify the `cfg` post creation.\n",
        "\n",
        "In order to perform inference for carnn on colab, we need to adjust the config values to accommodate some of the settings of colab such as the number of GPU available."
      ],
      "metadata": {
        "id": "MLDAKp5cA-st"
      }
    },
    {
      "cell_type": "code",
      "source": [
        "from mmdet.apis import set_random_seed\n",
        "\n",
        "\n",
        "# The original learning rate (LR) is set for 8-GPU training.\n",
        "# We divide it by 8 since we only use one GPU.\n",
        "# For detail discussion See https://github.com/open-mmlab/mmocr/issues/681#issuecomment-1009526228\n",
        "cfg.optimizer = dict(type = 'Adam',\n",
        "                 lr = 0.001 / 8)\n",
        "\n",
        "\n",
        "cfg.lr_config = dict(policy = 'step',\n",
        "                 step = [3, 4],\n",
        "                 warmup = None  # Set warmup to None when work in Colab\n",
        "                 )\n",
        "\n",
        "\n",
        "cfg.log_config = dict(\n",
        "                  interval = 5,  # Choose to log training results every 40 images to reduce the size of log file.\n",
        "                  hooks = [dict(type = 'TextLoggerHook')])\n",
        "\n",
        "seed = 0\n",
        "set_random_seed(0, deterministic=False)\n",
        "cfg.gpu_ids = range(1)\n",
        "\n",
        "# Let also limit the training to only 6 epochs\n",
        "\n",
        "cfg.runner = dict(type='EpochBasedRunner', max_epochs=6)\n",
        "\n",
        "#save the model every 2 epoch\n",
        "cfg.checkpoint_config = dict(interval=2)\n",
        "# print(f'Config:\\n{cfg.pretty_text}')"
      ],
      "metadata": {
        "id": "eY1-3B7PBHRV"
      },
      "execution_count": null,
      "outputs": []
    },
    {
      "cell_type": "markdown",
      "source": [
        "Let also change the [dict_type](https://github.com/open-mmlab/mmocr/issues/1113) to recognize characters from `0~9` , `A~Z` and `a-z` only and `no space`,"
      ],
      "metadata": {
        "id": "rG246XrEhZrJ"
      }
    },
    {
      "cell_type": "code",
      "source": [
        "# Please Ignore this, This is for troubleshooting purpose only\n",
        "# DICT62=['0123456789abcdefghijklmnopqrstuvwxyzABCDEFGHIJKLMNOPQRSTUVWXYZ'] # 62 characters\n",
        "\n",
        "# \"\"\"\n",
        "# 'BaseConvertor', 'CTCConvertor', 'AttnConvertor', 'SegConvertor','ABIConvertor'\n",
        "# \"\"\"\n",
        "\n",
        "# # Original value\n",
        "# # label_convertor = dict(type='AttnConvertor', dict_type='DICT90', with_unknown=True)\n",
        "\n",
        "# cfg.label_convertor = dict(\n",
        "#     type='AttnConvertor', dict_type=None,dict_list=DICT62, with_unknown=False,lower=False)\n",
        "\n",
        "# cfg.model.label_convertor=cfg.label_convertor\n",
        "\n",
        "\n",
        "\n"
      ],
      "metadata": {
        "id": "t0xgiJSphbx7"
      },
      "execution_count": null,
      "outputs": []
    },
    {
      "cell_type": "markdown",
      "source": [
        "## Train the SAR Text Recognizer\n",
        "Finally, we train the SAR text recognizer on the toy dataset for five epochs.\n",
        "\n",
        "This steps took about ~ 5 minutes to complete or <15 if Colab is connected with GPU\n"
      ],
      "metadata": {
        "id": "TZj5vyqEmulE"
      }
    },
    {
      "cell_type": "code",
      "source": [
        "from mmocr.datasets import build_dataset\n",
        "from mmocr.models import build_detector\n",
        "from mmocr.apis import train_detector\n",
        "import os.path as osp\n",
        "\n",
        "\n",
        "# Build dataset\n",
        "datasets = [build_dataset(cfg.data.train)]\n",
        "\n",
        "# # Build the detector\n",
        "model = build_detector(cfg.model, train_cfg=cfg.get('train_cfg'), test_cfg=cfg.get('test_cfg'))\n",
        "\n",
        "# # Add an attribute for visualization convenience\n",
        "model.CLASSES = datasets[0].CLASSES\n",
        "\n",
        "# # Create work_dir\n",
        "mmcv.mkdir_or_exist(osp.abspath(cfg.work_dir))\n",
        "train_detector(model, datasets, cfg, distributed=False, validate=True)"
      ],
      "metadata": {
        "id": "aGtuC29ys8Ej",
        "cellView": "code",
        "colab": {
          "base_uri": "https://localhost:8080/",
          "height": 1000
        },
        "outputId": "7a6c0e58-41e1-49a4-8bf1-4ca31874605a"
      },
      "execution_count": null,
      "outputs": [
        {
          "output_type": "stream",
          "name": "stderr",
          "text": [
            "/mmocr/mmocr/apis/utils.py:53: UserWarning: Remove \"MultiRotateAugOCR\" to support batch inference since samples_per_gpu > 1.\n",
            "  warnings.warn(warning_msg)\n",
            "2022-06-27 04:07:51,299 - mmocr - INFO - Start running, host: root@0911d87d2aae, work_dir: /mmocr/demo/tutorial_exps\n",
            "2022-06-27 04:07:51,305 - mmocr - INFO - Hooks will be executed in the following order:\n",
            "before_run:\n",
            "(VERY_HIGH   ) StepLrUpdaterHook                  \n",
            "(NORMAL      ) CheckpointHook                     \n",
            "(NORMAL      ) EvalHook                           \n",
            "(VERY_LOW    ) TextLoggerHook                     \n",
            " -------------------- \n",
            "before_train_epoch:\n",
            "(VERY_HIGH   ) StepLrUpdaterHook                  \n",
            "(NORMAL      ) EvalHook                           \n",
            "(LOW         ) IterTimerHook                      \n",
            "(VERY_LOW    ) TextLoggerHook                     \n",
            " -------------------- \n",
            "before_train_iter:\n",
            "(VERY_HIGH   ) StepLrUpdaterHook                  \n",
            "(NORMAL      ) EvalHook                           \n",
            "(LOW         ) IterTimerHook                      \n",
            " -------------------- \n",
            "after_train_iter:\n",
            "(ABOVE_NORMAL) OptimizerHook                      \n",
            "(NORMAL      ) CheckpointHook                     \n",
            "(NORMAL      ) EvalHook                           \n",
            "(LOW         ) IterTimerHook                      \n",
            "(VERY_LOW    ) TextLoggerHook                     \n",
            " -------------------- \n",
            "after_train_epoch:\n",
            "(NORMAL      ) CheckpointHook                     \n",
            "(NORMAL      ) EvalHook                           \n",
            "(VERY_LOW    ) TextLoggerHook                     \n",
            " -------------------- \n",
            "before_val_epoch:\n",
            "(LOW         ) IterTimerHook                      \n",
            "(VERY_LOW    ) TextLoggerHook                     \n",
            " -------------------- \n",
            "before_val_iter:\n",
            "(LOW         ) IterTimerHook                      \n",
            " -------------------- \n",
            "after_val_iter:\n",
            "(LOW         ) IterTimerHook                      \n",
            " -------------------- \n",
            "after_val_epoch:\n",
            "(VERY_LOW    ) TextLoggerHook                     \n",
            " -------------------- \n",
            "after_run:\n",
            "(VERY_LOW    ) TextLoggerHook                     \n",
            " -------------------- \n",
            "2022-06-27 04:07:51,307 - mmocr - INFO - workflow: [('train', 1)], max: 6 epochs\n",
            "2022-06-27 04:07:51,313 - mmocr - INFO - Checkpoints will be saved to /mmocr/demo/tutorial_exps by HardDiskBackend.\n",
            "/usr/local/lib/python3.7/dist-packages/torch/nn/functional.py:780: UserWarning: Note that order of the arguments: ceil_mode and return_indices will changeto match the args list in nn.MaxPool2d in a future release.\n",
            "  warnings.warn(\"Note that order of the arguments: ceil_mode and return_indices will change\"\n"
          ]
        },
        {
          "output_type": "error",
          "ename": "Exception",
          "evalue": "ignored",
          "traceback": [
            "\u001b[0;31m---------------------------------------------------------------------------\u001b[0m",
            "\u001b[0;31mException\u001b[0m                                 Traceback (most recent call last)",
            "\u001b[0;32m<ipython-input-16-4db527398459>\u001b[0m in \u001b[0;36m<module>\u001b[0;34m()\u001b[0m\n\u001b[1;32m     16\u001b[0m \u001b[0;31m# # Create work_dir\u001b[0m\u001b[0;34m\u001b[0m\u001b[0;34m\u001b[0m\u001b[0;34m\u001b[0m\u001b[0m\n\u001b[1;32m     17\u001b[0m \u001b[0mmmcv\u001b[0m\u001b[0;34m.\u001b[0m\u001b[0mmkdir_or_exist\u001b[0m\u001b[0;34m(\u001b[0m\u001b[0mosp\u001b[0m\u001b[0;34m.\u001b[0m\u001b[0mabspath\u001b[0m\u001b[0;34m(\u001b[0m\u001b[0mcfg\u001b[0m\u001b[0;34m.\u001b[0m\u001b[0mwork_dir\u001b[0m\u001b[0;34m)\u001b[0m\u001b[0;34m)\u001b[0m\u001b[0;34m\u001b[0m\u001b[0;34m\u001b[0m\u001b[0m\n\u001b[0;32m---> 18\u001b[0;31m \u001b[0mtrain_detector\u001b[0m\u001b[0;34m(\u001b[0m\u001b[0mmodel\u001b[0m\u001b[0;34m,\u001b[0m \u001b[0mdatasets\u001b[0m\u001b[0;34m,\u001b[0m \u001b[0mcfg\u001b[0m\u001b[0;34m,\u001b[0m \u001b[0mdistributed\u001b[0m\u001b[0;34m=\u001b[0m\u001b[0;32mFalse\u001b[0m\u001b[0;34m,\u001b[0m \u001b[0mvalidate\u001b[0m\u001b[0;34m=\u001b[0m\u001b[0;32mTrue\u001b[0m\u001b[0;34m)\u001b[0m\u001b[0;34m\u001b[0m\u001b[0;34m\u001b[0m\u001b[0m\n\u001b[0m",
            "\u001b[0;32m/mmocr/mmocr/apis/train.py\u001b[0m in \u001b[0;36mtrain_detector\u001b[0;34m(model, dataset, cfg, distributed, validate, timestamp, meta)\u001b[0m\n\u001b[1;32m    153\u001b[0m     \u001b[0;32melif\u001b[0m \u001b[0mcfg\u001b[0m\u001b[0;34m.\u001b[0m\u001b[0mload_from\u001b[0m\u001b[0;34m:\u001b[0m\u001b[0;34m\u001b[0m\u001b[0;34m\u001b[0m\u001b[0m\n\u001b[1;32m    154\u001b[0m         \u001b[0mrunner\u001b[0m\u001b[0;34m.\u001b[0m\u001b[0mload_checkpoint\u001b[0m\u001b[0;34m(\u001b[0m\u001b[0mcfg\u001b[0m\u001b[0;34m.\u001b[0m\u001b[0mload_from\u001b[0m\u001b[0;34m)\u001b[0m\u001b[0;34m\u001b[0m\u001b[0;34m\u001b[0m\u001b[0m\n\u001b[0;32m--> 155\u001b[0;31m     \u001b[0mrunner\u001b[0m\u001b[0;34m.\u001b[0m\u001b[0mrun\u001b[0m\u001b[0;34m(\u001b[0m\u001b[0mdata_loaders\u001b[0m\u001b[0;34m,\u001b[0m \u001b[0mcfg\u001b[0m\u001b[0;34m.\u001b[0m\u001b[0mworkflow\u001b[0m\u001b[0;34m)\u001b[0m\u001b[0;34m\u001b[0m\u001b[0;34m\u001b[0m\u001b[0m\n\u001b[0m\u001b[1;32m    156\u001b[0m \u001b[0;34m\u001b[0m\u001b[0m\n\u001b[1;32m    157\u001b[0m \u001b[0;34m\u001b[0m\u001b[0m\n",
            "\u001b[0;32m/usr/local/lib/python3.7/dist-packages/mmcv/runner/epoch_based_runner.py\u001b[0m in \u001b[0;36mrun\u001b[0;34m(self, data_loaders, workflow, max_epochs, **kwargs)\u001b[0m\n\u001b[1;32m    128\u001b[0m                     \u001b[0;32mif\u001b[0m \u001b[0mmode\u001b[0m \u001b[0;34m==\u001b[0m \u001b[0;34m'train'\u001b[0m \u001b[0;32mand\u001b[0m \u001b[0mself\u001b[0m\u001b[0;34m.\u001b[0m\u001b[0mepoch\u001b[0m \u001b[0;34m>=\u001b[0m \u001b[0mself\u001b[0m\u001b[0;34m.\u001b[0m\u001b[0m_max_epochs\u001b[0m\u001b[0;34m:\u001b[0m\u001b[0;34m\u001b[0m\u001b[0;34m\u001b[0m\u001b[0m\n\u001b[1;32m    129\u001b[0m                         \u001b[0;32mbreak\u001b[0m\u001b[0;34m\u001b[0m\u001b[0;34m\u001b[0m\u001b[0m\n\u001b[0;32m--> 130\u001b[0;31m                     \u001b[0mepoch_runner\u001b[0m\u001b[0;34m(\u001b[0m\u001b[0mdata_loaders\u001b[0m\u001b[0;34m[\u001b[0m\u001b[0mi\u001b[0m\u001b[0;34m]\u001b[0m\u001b[0;34m,\u001b[0m \u001b[0;34m**\u001b[0m\u001b[0mkwargs\u001b[0m\u001b[0;34m)\u001b[0m\u001b[0;34m\u001b[0m\u001b[0;34m\u001b[0m\u001b[0m\n\u001b[0m\u001b[1;32m    131\u001b[0m \u001b[0;34m\u001b[0m\u001b[0m\n\u001b[1;32m    132\u001b[0m         \u001b[0mtime\u001b[0m\u001b[0;34m.\u001b[0m\u001b[0msleep\u001b[0m\u001b[0;34m(\u001b[0m\u001b[0;36m1\u001b[0m\u001b[0;34m)\u001b[0m  \u001b[0;31m# wait for some hooks like loggers to finish\u001b[0m\u001b[0;34m\u001b[0m\u001b[0;34m\u001b[0m\u001b[0m\n",
            "\u001b[0;32m/usr/local/lib/python3.7/dist-packages/mmcv/runner/epoch_based_runner.py\u001b[0m in \u001b[0;36mtrain\u001b[0;34m(self, data_loader, **kwargs)\u001b[0m\n\u001b[1;32m     49\u001b[0m             \u001b[0mself\u001b[0m\u001b[0;34m.\u001b[0m\u001b[0m_inner_iter\u001b[0m \u001b[0;34m=\u001b[0m \u001b[0mi\u001b[0m\u001b[0;34m\u001b[0m\u001b[0;34m\u001b[0m\u001b[0m\n\u001b[1;32m     50\u001b[0m             \u001b[0mself\u001b[0m\u001b[0;34m.\u001b[0m\u001b[0mcall_hook\u001b[0m\u001b[0;34m(\u001b[0m\u001b[0;34m'before_train_iter'\u001b[0m\u001b[0;34m)\u001b[0m\u001b[0;34m\u001b[0m\u001b[0;34m\u001b[0m\u001b[0m\n\u001b[0;32m---> 51\u001b[0;31m             \u001b[0mself\u001b[0m\u001b[0;34m.\u001b[0m\u001b[0mrun_iter\u001b[0m\u001b[0;34m(\u001b[0m\u001b[0mdata_batch\u001b[0m\u001b[0;34m,\u001b[0m \u001b[0mtrain_mode\u001b[0m\u001b[0;34m=\u001b[0m\u001b[0;32mTrue\u001b[0m\u001b[0;34m,\u001b[0m \u001b[0;34m**\u001b[0m\u001b[0mkwargs\u001b[0m\u001b[0;34m)\u001b[0m\u001b[0;34m\u001b[0m\u001b[0;34m\u001b[0m\u001b[0m\n\u001b[0m\u001b[1;32m     52\u001b[0m             \u001b[0mself\u001b[0m\u001b[0;34m.\u001b[0m\u001b[0mcall_hook\u001b[0m\u001b[0;34m(\u001b[0m\u001b[0;34m'after_train_iter'\u001b[0m\u001b[0;34m)\u001b[0m\u001b[0;34m\u001b[0m\u001b[0;34m\u001b[0m\u001b[0m\n\u001b[1;32m     53\u001b[0m             \u001b[0;32mdel\u001b[0m \u001b[0mself\u001b[0m\u001b[0;34m.\u001b[0m\u001b[0mdata_batch\u001b[0m\u001b[0;34m\u001b[0m\u001b[0;34m\u001b[0m\u001b[0m\n",
            "\u001b[0;32m/usr/local/lib/python3.7/dist-packages/mmcv/runner/epoch_based_runner.py\u001b[0m in \u001b[0;36mrun_iter\u001b[0;34m(self, data_batch, train_mode, **kwargs)\u001b[0m\n\u001b[1;32m     28\u001b[0m         \u001b[0;32melif\u001b[0m \u001b[0mtrain_mode\u001b[0m\u001b[0;34m:\u001b[0m\u001b[0;34m\u001b[0m\u001b[0;34m\u001b[0m\u001b[0m\n\u001b[1;32m     29\u001b[0m             outputs = self.model.train_step(data_batch, self.optimizer,\n\u001b[0;32m---> 30\u001b[0;31m                                             **kwargs)\n\u001b[0m\u001b[1;32m     31\u001b[0m         \u001b[0;32melse\u001b[0m\u001b[0;34m:\u001b[0m\u001b[0;34m\u001b[0m\u001b[0;34m\u001b[0m\u001b[0m\n\u001b[1;32m     32\u001b[0m             \u001b[0moutputs\u001b[0m \u001b[0;34m=\u001b[0m \u001b[0mself\u001b[0m\u001b[0;34m.\u001b[0m\u001b[0mmodel\u001b[0m\u001b[0;34m.\u001b[0m\u001b[0mval_step\u001b[0m\u001b[0;34m(\u001b[0m\u001b[0mdata_batch\u001b[0m\u001b[0;34m,\u001b[0m \u001b[0mself\u001b[0m\u001b[0;34m.\u001b[0m\u001b[0moptimizer\u001b[0m\u001b[0;34m,\u001b[0m \u001b[0;34m**\u001b[0m\u001b[0mkwargs\u001b[0m\u001b[0;34m)\u001b[0m\u001b[0;34m\u001b[0m\u001b[0;34m\u001b[0m\u001b[0m\n",
            "\u001b[0;32m/usr/local/lib/python3.7/dist-packages/mmcv/parallel/data_parallel.py\u001b[0m in \u001b[0;36mtrain_step\u001b[0;34m(self, *inputs, **kwargs)\u001b[0m\n\u001b[1;32m     73\u001b[0m \u001b[0;34m\u001b[0m\u001b[0m\n\u001b[1;32m     74\u001b[0m         \u001b[0minputs\u001b[0m\u001b[0;34m,\u001b[0m \u001b[0mkwargs\u001b[0m \u001b[0;34m=\u001b[0m \u001b[0mself\u001b[0m\u001b[0;34m.\u001b[0m\u001b[0mscatter\u001b[0m\u001b[0;34m(\u001b[0m\u001b[0minputs\u001b[0m\u001b[0;34m,\u001b[0m \u001b[0mkwargs\u001b[0m\u001b[0;34m,\u001b[0m \u001b[0mself\u001b[0m\u001b[0;34m.\u001b[0m\u001b[0mdevice_ids\u001b[0m\u001b[0;34m)\u001b[0m\u001b[0;34m\u001b[0m\u001b[0;34m\u001b[0m\u001b[0m\n\u001b[0;32m---> 75\u001b[0;31m         \u001b[0;32mreturn\u001b[0m \u001b[0mself\u001b[0m\u001b[0;34m.\u001b[0m\u001b[0mmodule\u001b[0m\u001b[0;34m.\u001b[0m\u001b[0mtrain_step\u001b[0m\u001b[0;34m(\u001b[0m\u001b[0;34m*\u001b[0m\u001b[0minputs\u001b[0m\u001b[0;34m[\u001b[0m\u001b[0;36m0\u001b[0m\u001b[0;34m]\u001b[0m\u001b[0;34m,\u001b[0m \u001b[0;34m**\u001b[0m\u001b[0mkwargs\u001b[0m\u001b[0;34m[\u001b[0m\u001b[0;36m0\u001b[0m\u001b[0;34m]\u001b[0m\u001b[0;34m)\u001b[0m\u001b[0;34m\u001b[0m\u001b[0;34m\u001b[0m\u001b[0m\n\u001b[0m\u001b[1;32m     76\u001b[0m \u001b[0;34m\u001b[0m\u001b[0m\n\u001b[1;32m     77\u001b[0m     \u001b[0;32mdef\u001b[0m \u001b[0mval_step\u001b[0m\u001b[0;34m(\u001b[0m\u001b[0mself\u001b[0m\u001b[0;34m,\u001b[0m \u001b[0;34m*\u001b[0m\u001b[0minputs\u001b[0m\u001b[0;34m,\u001b[0m \u001b[0;34m**\u001b[0m\u001b[0mkwargs\u001b[0m\u001b[0;34m)\u001b[0m\u001b[0;34m:\u001b[0m\u001b[0;34m\u001b[0m\u001b[0;34m\u001b[0m\u001b[0m\n",
            "\u001b[0;32m/mmocr/mmocr/models/textrecog/recognizer/base.py\u001b[0m in \u001b[0;36mtrain_step\u001b[0;34m(self, data, optimizer)\u001b[0m\n\u001b[1;32m    156\u001b[0m                 DDP model, num_samples refers to the batch size for each GPU).\n\u001b[1;32m    157\u001b[0m         \"\"\"\n\u001b[0;32m--> 158\u001b[0;31m         \u001b[0mlosses\u001b[0m \u001b[0;34m=\u001b[0m \u001b[0mself\u001b[0m\u001b[0;34m(\u001b[0m\u001b[0;34m**\u001b[0m\u001b[0mdata\u001b[0m\u001b[0;34m)\u001b[0m\u001b[0;34m\u001b[0m\u001b[0;34m\u001b[0m\u001b[0m\n\u001b[0m\u001b[1;32m    159\u001b[0m         \u001b[0mloss\u001b[0m\u001b[0;34m,\u001b[0m \u001b[0mlog_vars\u001b[0m \u001b[0;34m=\u001b[0m \u001b[0mself\u001b[0m\u001b[0;34m.\u001b[0m\u001b[0m_parse_losses\u001b[0m\u001b[0;34m(\u001b[0m\u001b[0mlosses\u001b[0m\u001b[0;34m)\u001b[0m\u001b[0;34m\u001b[0m\u001b[0;34m\u001b[0m\u001b[0m\n\u001b[1;32m    160\u001b[0m \u001b[0;34m\u001b[0m\u001b[0m\n",
            "\u001b[0;32m/usr/local/lib/python3.7/dist-packages/torch/nn/modules/module.py\u001b[0m in \u001b[0;36m_call_impl\u001b[0;34m(self, *input, **kwargs)\u001b[0m\n\u001b[1;32m   1108\u001b[0m         if not (self._backward_hooks or self._forward_hooks or self._forward_pre_hooks or _global_backward_hooks\n\u001b[1;32m   1109\u001b[0m                 or _global_forward_hooks or _global_forward_pre_hooks):\n\u001b[0;32m-> 1110\u001b[0;31m             \u001b[0;32mreturn\u001b[0m \u001b[0mforward_call\u001b[0m\u001b[0;34m(\u001b[0m\u001b[0;34m*\u001b[0m\u001b[0minput\u001b[0m\u001b[0;34m,\u001b[0m \u001b[0;34m**\u001b[0m\u001b[0mkwargs\u001b[0m\u001b[0;34m)\u001b[0m\u001b[0;34m\u001b[0m\u001b[0;34m\u001b[0m\u001b[0m\n\u001b[0m\u001b[1;32m   1111\u001b[0m         \u001b[0;31m# Do not call functions when jit is used\u001b[0m\u001b[0;34m\u001b[0m\u001b[0;34m\u001b[0m\u001b[0;34m\u001b[0m\u001b[0m\n\u001b[1;32m   1112\u001b[0m         \u001b[0mfull_backward_hooks\u001b[0m\u001b[0;34m,\u001b[0m \u001b[0mnon_full_backward_hooks\u001b[0m \u001b[0;34m=\u001b[0m \u001b[0;34m[\u001b[0m\u001b[0;34m]\u001b[0m\u001b[0;34m,\u001b[0m \u001b[0;34m[\u001b[0m\u001b[0;34m]\u001b[0m\u001b[0;34m\u001b[0m\u001b[0;34m\u001b[0m\u001b[0m\n",
            "\u001b[0;32m/usr/local/lib/python3.7/dist-packages/mmcv/runner/fp16_utils.py\u001b[0m in \u001b[0;36mnew_func\u001b[0;34m(*args, **kwargs)\u001b[0m\n\u001b[1;32m    114\u001b[0m                                 f'method of those classes {supported_types}')\n\u001b[1;32m    115\u001b[0m             \u001b[0;32mif\u001b[0m \u001b[0;32mnot\u001b[0m \u001b[0;34m(\u001b[0m\u001b[0mhasattr\u001b[0m\u001b[0;34m(\u001b[0m\u001b[0margs\u001b[0m\u001b[0;34m[\u001b[0m\u001b[0;36m0\u001b[0m\u001b[0;34m]\u001b[0m\u001b[0;34m,\u001b[0m \u001b[0;34m'fp16_enabled'\u001b[0m\u001b[0;34m)\u001b[0m \u001b[0;32mand\u001b[0m \u001b[0margs\u001b[0m\u001b[0;34m[\u001b[0m\u001b[0;36m0\u001b[0m\u001b[0;34m]\u001b[0m\u001b[0;34m.\u001b[0m\u001b[0mfp16_enabled\u001b[0m\u001b[0;34m)\u001b[0m\u001b[0;34m:\u001b[0m\u001b[0;34m\u001b[0m\u001b[0;34m\u001b[0m\u001b[0m\n\u001b[0;32m--> 116\u001b[0;31m                 \u001b[0;32mreturn\u001b[0m \u001b[0mold_func\u001b[0m\u001b[0;34m(\u001b[0m\u001b[0;34m*\u001b[0m\u001b[0margs\u001b[0m\u001b[0;34m,\u001b[0m \u001b[0;34m**\u001b[0m\u001b[0mkwargs\u001b[0m\u001b[0;34m)\u001b[0m\u001b[0;34m\u001b[0m\u001b[0;34m\u001b[0m\u001b[0m\n\u001b[0m\u001b[1;32m    117\u001b[0m \u001b[0;34m\u001b[0m\u001b[0m\n\u001b[1;32m    118\u001b[0m             \u001b[0;31m# get the arg spec of the decorated method\u001b[0m\u001b[0;34m\u001b[0m\u001b[0;34m\u001b[0m\u001b[0;34m\u001b[0m\u001b[0m\n",
            "\u001b[0;32m/mmocr/mmocr/models/textrecog/recognizer/base.py\u001b[0m in \u001b[0;36mforward\u001b[0;34m(self, img, img_metas, return_loss, **kwargs)\u001b[0m\n\u001b[1;32m     82\u001b[0m \u001b[0;34m\u001b[0m\u001b[0m\n\u001b[1;32m     83\u001b[0m         \u001b[0;32mif\u001b[0m \u001b[0mreturn_loss\u001b[0m\u001b[0;34m:\u001b[0m\u001b[0;34m\u001b[0m\u001b[0;34m\u001b[0m\u001b[0m\n\u001b[0;32m---> 84\u001b[0;31m             \u001b[0;32mreturn\u001b[0m \u001b[0mself\u001b[0m\u001b[0;34m.\u001b[0m\u001b[0mforward_train\u001b[0m\u001b[0;34m(\u001b[0m\u001b[0mimg\u001b[0m\u001b[0;34m,\u001b[0m \u001b[0mimg_metas\u001b[0m\u001b[0;34m,\u001b[0m \u001b[0;34m**\u001b[0m\u001b[0mkwargs\u001b[0m\u001b[0;34m)\u001b[0m\u001b[0;34m\u001b[0m\u001b[0;34m\u001b[0m\u001b[0m\n\u001b[0m\u001b[1;32m     85\u001b[0m \u001b[0;34m\u001b[0m\u001b[0m\n\u001b[1;32m     86\u001b[0m         \u001b[0;32mif\u001b[0m \u001b[0misinstance\u001b[0m\u001b[0;34m(\u001b[0m\u001b[0mimg\u001b[0m\u001b[0;34m,\u001b[0m \u001b[0mlist\u001b[0m\u001b[0;34m)\u001b[0m\u001b[0;34m:\u001b[0m\u001b[0;34m\u001b[0m\u001b[0;34m\u001b[0m\u001b[0m\n",
            "\u001b[0;32m/mmocr/mmocr/models/textrecog/recognizer/encode_decode_recognizer.py\u001b[0m in \u001b[0;36mforward_train\u001b[0;34m(self, img, img_metas)\u001b[0m\n\u001b[1;32m    101\u001b[0m         \u001b[0mgt_labels\u001b[0m \u001b[0;34m=\u001b[0m \u001b[0;34m[\u001b[0m\u001b[0mimg_meta\u001b[0m\u001b[0;34m[\u001b[0m\u001b[0;34m'text'\u001b[0m\u001b[0;34m]\u001b[0m \u001b[0;32mfor\u001b[0m \u001b[0mimg_meta\u001b[0m \u001b[0;32min\u001b[0m \u001b[0mimg_metas\u001b[0m\u001b[0;34m]\u001b[0m\u001b[0;34m\u001b[0m\u001b[0;34m\u001b[0m\u001b[0m\n\u001b[1;32m    102\u001b[0m \u001b[0;34m\u001b[0m\u001b[0m\n\u001b[0;32m--> 103\u001b[0;31m         \u001b[0mtargets_dict\u001b[0m \u001b[0;34m=\u001b[0m \u001b[0mself\u001b[0m\u001b[0;34m.\u001b[0m\u001b[0mlabel_convertor\u001b[0m\u001b[0;34m.\u001b[0m\u001b[0mstr2tensor\u001b[0m\u001b[0;34m(\u001b[0m\u001b[0mgt_labels\u001b[0m\u001b[0;34m)\u001b[0m\u001b[0;34m\u001b[0m\u001b[0;34m\u001b[0m\u001b[0m\n\u001b[0m\u001b[1;32m    104\u001b[0m \u001b[0;34m\u001b[0m\u001b[0m\n\u001b[1;32m    105\u001b[0m         \u001b[0mout_enc\u001b[0m \u001b[0;34m=\u001b[0m \u001b[0;32mNone\u001b[0m\u001b[0;34m\u001b[0m\u001b[0;34m\u001b[0m\u001b[0m\n",
            "\u001b[0;32m/mmocr/mmocr/models/textrecog/convertors/attn.py\u001b[0m in \u001b[0;36mstr2tensor\u001b[0;34m(self, strings)\u001b[0m\n\u001b[1;32m     87\u001b[0m \u001b[0;34m\u001b[0m\u001b[0m\n\u001b[1;32m     88\u001b[0m         \u001b[0mtensors\u001b[0m\u001b[0;34m,\u001b[0m \u001b[0mpadded_targets\u001b[0m \u001b[0;34m=\u001b[0m \u001b[0;34m[\u001b[0m\u001b[0;34m]\u001b[0m\u001b[0;34m,\u001b[0m \u001b[0;34m[\u001b[0m\u001b[0;34m]\u001b[0m\u001b[0;34m\u001b[0m\u001b[0;34m\u001b[0m\u001b[0m\n\u001b[0;32m---> 89\u001b[0;31m         \u001b[0mindexes\u001b[0m \u001b[0;34m=\u001b[0m \u001b[0mself\u001b[0m\u001b[0;34m.\u001b[0m\u001b[0mstr2idx\u001b[0m\u001b[0;34m(\u001b[0m\u001b[0mstrings\u001b[0m\u001b[0;34m)\u001b[0m\u001b[0;34m\u001b[0m\u001b[0;34m\u001b[0m\u001b[0m\n\u001b[0m\u001b[1;32m     90\u001b[0m         \u001b[0;32mfor\u001b[0m \u001b[0mindex\u001b[0m \u001b[0;32min\u001b[0m \u001b[0mindexes\u001b[0m\u001b[0;34m:\u001b[0m\u001b[0;34m\u001b[0m\u001b[0;34m\u001b[0m\u001b[0m\n\u001b[1;32m     91\u001b[0m             \u001b[0mtensor\u001b[0m \u001b[0;34m=\u001b[0m \u001b[0mtorch\u001b[0m\u001b[0;34m.\u001b[0m\u001b[0mLongTensor\u001b[0m\u001b[0;34m(\u001b[0m\u001b[0mindex\u001b[0m\u001b[0;34m)\u001b[0m\u001b[0;34m\u001b[0m\u001b[0;34m\u001b[0m\u001b[0m\n",
            "\u001b[0;32m/mmocr/mmocr/models/textrecog/convertors/base.py\u001b[0m in \u001b[0;36mstr2idx\u001b[0;34m(self, strings)\u001b[0m\n\u001b[1;32m     80\u001b[0m                 \u001b[0mchar_idx\u001b[0m \u001b[0;34m=\u001b[0m \u001b[0mself\u001b[0m\u001b[0;34m.\u001b[0m\u001b[0mchar2idx\u001b[0m\u001b[0;34m.\u001b[0m\u001b[0mget\u001b[0m\u001b[0;34m(\u001b[0m\u001b[0mchar\u001b[0m\u001b[0;34m,\u001b[0m \u001b[0mself\u001b[0m\u001b[0;34m.\u001b[0m\u001b[0munknown_idx\u001b[0m\u001b[0;34m)\u001b[0m\u001b[0;34m\u001b[0m\u001b[0;34m\u001b[0m\u001b[0m\n\u001b[1;32m     81\u001b[0m                 \u001b[0;32mif\u001b[0m \u001b[0mchar_idx\u001b[0m \u001b[0;32mis\u001b[0m \u001b[0;32mNone\u001b[0m\u001b[0;34m:\u001b[0m\u001b[0;34m\u001b[0m\u001b[0;34m\u001b[0m\u001b[0m\n\u001b[0;32m---> 82\u001b[0;31m                     raise Exception(f'Chararcter: {char} not in dict,'\n\u001b[0m\u001b[1;32m     83\u001b[0m                                     \u001b[0;34mf' please check gt_label and use'\u001b[0m\u001b[0;34m\u001b[0m\u001b[0;34m\u001b[0m\u001b[0m\n\u001b[1;32m     84\u001b[0m                                     \u001b[0;34mf' custom dict file,'\u001b[0m\u001b[0;34m\u001b[0m\u001b[0;34m\u001b[0m\u001b[0m\n",
            "\u001b[0;31mException\u001b[0m: Chararcter: S not in dict, please check gt_label and use custom dict file, or set \"with_unknown=True\""
          ]
        }
      ]
    },
    {
      "cell_type": "markdown",
      "source": [
        "## Test and Visualize the Predictions\n",
        "\n",
        "For completeness, we also perform testing on the latest checkpoint and evaluate the results with hmean-iou metrics. The predictions are saved in the ./outputs file."
      ],
      "metadata": {
        "id": "sklydRNXnfJk"
      }
    },
    {
      "cell_type": "code",
      "source": [
        "# Visualize the testing image.\n",
        "img='/mmocr/tests/data/toy_dataset/imgs/test/img_1.jpg' # This should be an overfit, since we testing an image that has been used for training!\n",
        "\n",
        "_img = mmcv.imread(img)\n",
        "plt.figure(figsize=(4, 4))\n",
        "plt.imshow(mmcv.bgr2rgb(_img))\n",
        "plt.show()"
      ],
      "metadata": {
        "id": "UcaZm7qY3yGT"
      },
      "execution_count": null,
      "outputs": []
    },
    {
      "cell_type": "code",
      "source": [
        "print(cfg.work_dir)"
      ],
      "metadata": {
        "id": "zFRom8nBEppE"
      },
      "execution_count": null,
      "outputs": []
    },
    {
      "cell_type": "code",
      "execution_count": null,
      "source": [
        "from mmocr.apis import init_detector, model_inference\n",
        "\n",
        "\n",
        "img='/mmocr/tests/data/toy_dataset/imgs/test/img_1.jpg'  # This should be an overfit, since we testing an image that has been used for training!\n",
        "\n",
        "\n",
        "\n",
        "checkpoint=os.path.join(cfg.work_dir,'epoch_5.pth')\n",
        "\n",
        "\n",
        "out_file = 'outputs/1036169s.jpg'   # Rendered image save location\n",
        "\n",
        "model = init_detector(cfg, checkpoint, device=\"cuda:0\")\n",
        "if model.cfg.data.test['type'] == 'ConcatDataset':\n",
        "    model.cfg.data.test.pipeline = model.cfg.data.test['datasets'][0].pipeline\n",
        "\n",
        "# Lets do inference to the image using the model that we just train.\n",
        "result = model_inference(model, img)\n",
        "print(f'result: {result}')\n",
        "\n",
        "img = model.show_result(img, result,\n",
        "                        out_file=out_file,\n",
        "                        show=False)\n",
        "\n",
        "mmcv.imwrite(img, out_file)"
      ],
      "outputs": [],
      "metadata": {
        "id": "-HbXY7uUpEU1"
      }
    },
    {
      "cell_type": "code",
      "execution_count": null,
      "source": [
        "# Visualize the results\n",
        "predicted_img = mmcv.imread('./outputs/1036169s.jpg')\n",
        "plt.figure(figsize=(4, 4))\n",
        "plt.imshow(mmcv.bgr2rgb(predicted_img))\n",
        "plt.show()"
      ],
      "outputs": [],
      "metadata": {
        "id": "k3s27QIGQCnT"
      }
    },
    {
      "cell_type": "markdown",
      "source": [
        "# Resume Training from existing training point\n"
      ],
      "metadata": {
        "id": "xzVev3FMGc3q"
      }
    },
    {
      "cell_type": "code",
      "source": [
        "from mmcv import Config\n",
        "from mmdet.apis import set_random_seed\n",
        "cfg = Config.fromfile('/content/my_cfg.py')\n",
        "\n",
        "\n",
        "cfg.gpu_ids = range(1)\n",
        "\n",
        "# Let also limit the training to only 12 epochs\n",
        "\n",
        "cfg.runner = dict(type='EpochBasedRunner', max_epochs=20)\n",
        "\n",
        "#save the model every 2 epoch\n",
        "cfg.checkpoint_config = dict(interval=5) # Default the interval was set to 100\n",
        "\n",
        "print(f'Config:\\n{cfg.pretty_text}')"
      ],
      "metadata": {
        "id": "9beDV1xAR-3H"
      },
      "execution_count": null,
      "outputs": []
    },
    {
      "cell_type": "markdown",
      "source": [
        "mmocr offer the capability to `resume` training.\n",
        "\n",
        "\n",
        "\n",
        "or use `pre-trained` model which will be used to initialize the network paramters.\n",
        "\n",
        "Please select or set either `resume_from` or `load_from`"
      ],
      "metadata": {
        "id": "7qtT_MNrCGfz"
      }
    },
    {
      "cell_type": "markdown",
      "source": [
        "To ` resume` training"
      ],
      "metadata": {
        "id": "2SA6abX9CvXQ"
      }
    },
    {
      "cell_type": "code",
      "source": [
        "# Resume training from a previously saved checkpoint, which will inherit the training epoch and optimizer parameters.\n",
        "cfg.resume_from='/mmocr/demo/tutorial_exps/epoch_6.pth'"
      ],
      "metadata": {
        "id": "37ZPRjmhCyAG"
      },
      "execution_count": null,
      "outputs": []
    },
    {
      "cell_type": "markdown",
      "source": [
        "To use a `pre-trained` model"
      ],
      "metadata": {
        "id": "yzXo0fxMDAgF"
      }
    },
    {
      "cell_type": "code",
      "source": [
        "# Path to the pre-trained model\n",
        "cfg.load_from='/mmocr/demo/tutorial_exps/epoch_6.pth'"
      ],
      "metadata": {
        "id": "EXZ3Zzh_DFop"
      },
      "execution_count": null,
      "outputs": []
    },
    {
      "cell_type": "markdown",
      "source": [
        "# Interesting discussion from MMOCR github"
      ],
      "metadata": {
        "id": "hTwUGnRP24I3"
      }
    },
    {
      "cell_type": "code",
      "source": [],
      "metadata": {
        "id": "6zzpkX4k4y1H"
      },
      "execution_count": null,
      "outputs": []
    },
    {
      "cell_type": "markdown",
      "source": [
        "\n",
        "\n",
        "1.   Turn on imshow for [debugging](https://github.com/open-mmlab/mmocr/issues/410#issuecomment-892480963)\n",
        "2.   Different methods support differnet number of classes [(tokens)](https://github.com/open-mmlab/mmocr/issues/424#issuecomment-896568710). For example, SAR is DICT90 while CRNN is DICT36. But for evaluation metric, they are the same.\n",
        "3. `word_acc_ignore_case_symbol` is the [results that removing some tokens](https://github.com/open-mmlab/mmocr/issues/424#issuecomment-896574323) that are not a number or English characters.\n",
        "4. Evaluating on DICT36 is common sense in the academic community because it can get a [higher accuracy](https://github.com/open-mmlab/mmocr/issues/424#issuecomment-1086852698).\n",
        "5. Problems in training MJ + ST training set using robustscanner algorithm ( [Issue](https://github.com/open-mmlab/mmocr/issues/508))\n",
        "6. [visualize loss curve](https://github.com/open-mmlab/mmocr/issues/514).\n",
        "7. [Finetuning a model generally](https://github.com/open-mmlab/mmocr/issues/565#issuecomment-963916718) requires a much smaller learning rate than training from scratch. And it's hard to finetune the model for special cases, especially when your data is not large enough and your model is just likely to overfit.\n",
        "8. To extract only metric results, [batch testing would be enough](https://github.com/open-mmlab/mmocr/issues/594#issuecomment-971176307).\n",
        "9. char_precision is the average percentage of predicted characters that correctly match the ground truth texts. 1-N.E.D is an official metric used in the ICDAR competition where N.E.D stands for Normalized Edit Distance. The motivation of adaptation is that \"Chinese script has much more and also usually longer vocabulary than Latin script, which makes word accuracy metric too harsh to proper evaluate T2.2\". (read https://rrc.cvc.uab.es/?ch=14&com=tasks). And it's better to read through their implementation [REF](https://github.com/open-mmlab/mmocr/issues/760#issuecomment-1034664840)\n",
        "\n",
        "10. How to handle space. [Trick 1](https://github.com/open-mmlab/mmocr/issues/766#issuecomment-1030861493), or How [Create OCR for only number?](https://github.com/open-mmlab/mmocr/issues/766)\n",
        "\n",
        "`label_convertor = dict(\n",
        "    type='CTCConvertor', dict_list=list('0123456789 '), with_unknown=False)`\n",
        "\n",
        "\n",
        "11. label.txt and label.lmdb contain exactly the same data in two different formats. This toy dataset demo is designed to demonstrate the usage of different data formats, and how to concat multiple datasets. For real applications, you only need to prepare the data annotations in one format (.txt or .lmdb).[ref](https://github.com/open-mmlab/mmocr/issues/817#issuecomment-1061543477)\n",
        "\n",
        "11. Diffrence difference between the 'load_from' and 'resume_from' . A checkpoint file contains not only the weights of the model but metadata of the training state, e.g., the current iteration # and the learning rate. --load-from only loads the weights from the checkpoint and starts training from the very first iteration, whereas --resume-from loads additional metadata to resume exactly from the stage where the checkpoint was saved [ref](https://github.com/open-mmlab/mmocr/issues/839#issuecomment-1067462651).\n",
        "12. Use case to repeat the training on a train dataset for x repeat of times?>> Sometimes this feature is needed when we train a model on a set of datasets with imbalanced sizes, where tiling the small dataset several times is the most straightforward way to alleviate the bias brought by the large ones. [SAR](https://mmocr.readthedocs.io/en/latest/textrecog_models.html#sar) is an example [ref](https://github.com/open-mmlab/mmocr/issues/858#issuecomment-1166793020)."
      ],
      "metadata": {
        "id": "G_4pGd_F3DsX"
      }
    },
    {
      "cell_type": "markdown",
      "source": [
        "## Discussion about learning policy\n",
        "\n",
        "0. Learning policy [example](https://github.com/open-mmlab/mmocr/blob/main/configs/_base_/schedules/schedule_adam_600e.py)\n",
        "1. Passing a list of steps to step policy means that lr only decays at your specific steps. You should pass an integer X instead so that lr would decay every X steps. [Ref](https://github.com/open-mmlab/mmocr/issues/670#issuecomment-999991224)\n",
        "2. What is the learning policy on text detection models and what is set and with what values?   Learning policy only determines how the learning rate [changes over time](https://github.com/open-mmlab/mmocr/issues/681#issuecomment-1001285752),  passing 'poly' to `lr_config' will call PolyLrUpdaterHook to apply its policy.\n",
        "3. [Change lp according to GPU number](https://github.com/open-mmlab/mmocr/issues/681#issuecomment-1009526228). . According to the [metafile](https://github.com/open-mmlab/mmocr/blob/dab5725d70b92ada4383565c3e60f6634616fd60/configs/textdet/textsnake/metafile.yml), TextSnake was trained on 8 GPUs with the actual batch size 32 (samples_per_gpus * num_gpus). Even if you want to scale down the learning rate in proportion to how your actual batch size change, the learning rate should not be less than 0.007/(32 / 8)=0.00175.\n"
      ],
      "metadata": {
        "id": "wIE-TARf6bl4"
      }
    }
  ]
}